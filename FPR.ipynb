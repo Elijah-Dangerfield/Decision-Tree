{
 "cells": [
  {
   "cell_type": "code",
   "execution_count": 1,
   "metadata": {},
   "outputs": [],
   "source": [
    "import numpy as np\n",
    "import matplotlib.pyplot as plt\n",
    "import matplotlib\n",
    "%matplotlib inline"
   ]
  },
  {
   "cell_type": "code",
   "execution_count": 41,
   "metadata": {},
   "outputs": [],
   "source": [
    "data = np.loadtxt(\"cancer-results-50.txt\")"
   ]
  },
  {
   "cell_type": "code",
   "execution_count": 42,
   "metadata": {},
   "outputs": [
    {
     "name": "stdout",
     "output_type": "stream",
     "text": [
      "99 79 20\n",
      "482 421 20\n",
      "0.9546485260770975\n"
     ]
    }
   ],
   "source": [
    "target_class = 0\n",
    "\n",
    "# Actual cancer cases\n",
    "subset = np.where(data[:,0]==target_class)[0]\n",
    "num_true = len(subset)\n",
    "num_true_negatives = len(np.where(data[subset,1]!=target_class)[0])\n",
    "num_true_positives = num_true - num_true_negatives\n",
    "print(num_true,num_true_positives,num_true_negatives)\n",
    "\n",
    "# Not cancer cases\n",
    "num_false = data.shape[0] - num_cancer\n",
    "num_false_negatives = len(np.where(data[-subset,1]!=target_class)[0])\n",
    "num_false_positives = num_false - num_false_negatives\n",
    "print(num_false,num_false_positives,num_true_negatives)\n",
    "\n",
    "# Definition of the false positive rate (want this to be low)\n",
    "false_positive_rate = float(num_false_positives) / (float(num_false_positives) + float(num_true_negatives))\n",
    "print(false_positive_rate)"
   ]
  },
  {
   "cell_type": "code",
   "execution_count": null,
   "metadata": {},
   "outputs": [],
   "source": []
  }
 ],
 "metadata": {
  "kernelspec": {
   "display_name": "Python 3",
   "language": "python",
   "name": "python3"
  },
  "language_info": {
   "codemirror_mode": {
    "name": "ipython",
    "version": 3
   },
   "file_extension": ".py",
   "mimetype": "text/x-python",
   "name": "python",
   "nbconvert_exporter": "python",
   "pygments_lexer": "ipython3",
   "version": "3.5.3"
  }
 },
 "nbformat": 4,
 "nbformat_minor": 4
}
